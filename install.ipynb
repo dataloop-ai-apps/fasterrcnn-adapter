{
 "cells": [
  {
   "cell_type": "code",
   "execution_count": 1,
   "id": "5fd3d8f3",
   "metadata": {},
   "outputs": [],
   "source": [
    "import dtlpy as dl"
   ]
  },
  {
   "cell_type": "code",
   "execution_count": 2,
   "id": "3e2aa693",
   "metadata": {},
   "outputs": [],
   "source": [
    "# dl.logout()\n",
    "use_rc_env = False\n",
    "if use_rc_env:\n",
    "    dl.setenv('rc')\n",
    "else:\n",
    "    dl.setenv('prod')\n",
    "if dl.token_expired():\n",
    "    dl.login()\n"
   ]
  },
  {
   "cell_type": "code",
   "execution_count": 3,
   "id": "9fcdc832",
   "metadata": {},
   "outputs": [],
   "source": [
    "# project = dl.projects.get(project_name='IPM development')\n",
    "project = dl.projects.get(project_id='43e11685-1e6d-493b-a76d-41c33bbf0470')"
   ]
  },
  {
   "cell_type": "code",
   "execution_count": null,
   "id": "b7b35f26",
   "metadata": {},
   "outputs": [],
   "source": [
    "project.open_in_web()\n"
   ]
  },
  {
   "cell_type": "code",
   "execution_count": 5,
   "id": "957b1253",
   "metadata": {},
   "outputs": [
    {
     "name": "stdout",
     "output_type": "stream",
     "text": [
      "installing ...\n"
     ]
    }
   ],
   "source": [
    "# Publish your app\n",
    "dpk = project.dpks.publish()\n",
    "# Install or update the application\n",
    "try:\n",
    "    app = project.apps.get(app_name=dpk.display_name)\n",
    "    app.dpk_version = dpk.version\n",
    "    app.update()\n",
    "except dl.exceptions.NotFound:\n",
    "    print(\"installing ...\")\n",
    "    app = project.apps.install(dpk=dpk)"
   ]
  },
  {
   "cell_type": "code",
   "execution_count": 5,
   "id": "cbefd9ac",
   "metadata": {},
   "outputs": [],
   "source": [
    "model = project.models.get(model_id='68d6d76b88fc8ee8deaa23c7')"
   ]
  },
  {
   "cell_type": "code",
   "execution_count": 6,
   "id": "197da9f3",
   "metadata": {},
   "outputs": [
    {
     "data": {
      "text/plain": [
       "{'system': {'subsets': {'train': {'filter': {'$and': [{'hidden': False},\n",
       "      {'metadata': {'system': {'tags': {'train': True}}}},\n",
       "      {'type': 'file'}]},\n",
       "    'page': 0,\n",
       "    'pageSize': 1000,\n",
       "    'resource': 'items'},\n",
       "   'validation': {'filter': {'$and': [{'hidden': False},\n",
       "      {'metadata': {'system': {'tags': {'validation': True}}}},\n",
       "      {'type': 'file'}]},\n",
       "    'page': 0,\n",
       "    'pageSize': 1000,\n",
       "    'resource': 'items'}},\n",
       "  'archived': False,\n",
       "  'reloadServices': {'commandId': '68d797014d9dea1446ef8c4d', 'error': ''},\n",
       "  'train': {'executions': ['68d6d7ea11e5aea75643d5fc'],\n",
       "   'services': ['68d6d7e8d6a16e36677b0972']}}}"
      ]
     },
     "execution_count": 6,
     "metadata": {},
     "output_type": "execute_result"
    }
   ],
   "source": [
    "model.metadata"
   ]
  },
  {
   "cell_type": "code",
   "execution_count": null,
   "id": "92ef6394",
   "metadata": {},
   "outputs": [],
   "source": [
    "subsets = list(model.metadata['system']['subsets'].keys())"
   ]
  },
  {
   "cell_type": "code",
   "execution_count": null,
   "id": "172b0839",
   "metadata": {},
   "outputs": [],
   "source": [
    "print(subsets)"
   ]
  },
  {
   "cell_type": "code",
   "execution_count": null,
   "id": "1113d302",
   "metadata": {},
   "outputs": [],
   "source": [
    "subpaths = [\n",
    "                [s['dir'] for s in model.metadata['system']['subsets'][subset]['filter']['$and'] if\n",
    "                 s.get('dir') is not None][0][1:] for subset in subsets\n",
    "            ]"
   ]
  },
  {
   "cell_type": "code",
   "execution_count": null,
   "id": "6746a47a",
   "metadata": {},
   "outputs": [],
   "source": [
    "train_dataset = DatasetGeneratorTorch(\n",
    "            data_path=os.path.join('/app/tmp/68d8d989553d8b9679e3bddf/datasets/68d7aca9a12e12b6e45a8fcc/train/'),\n",
    "            \n",
    "            filters=dl.Filters(custom_filter=train_filter),\n",
    "            dataset_entity=self.model_entity.dataset,\n",
    "            id_to_label_map=id_to_label_map,\n",
    "            label_to_id_map=label_to_id_map,\n",
    "            overwrite=False,\n",
    "            to_mask=False,\n",
    "            annotation_type=dl.AnnotationType.BOX,\n",
    "            transforms=get_transform()\n",
    "            )"
   ]
  }
 ],
 "metadata": {
  "kernelspec": {
   "display_name": "venv",
   "language": "python",
   "name": "python3"
  },
  "language_info": {
   "codemirror_mode": {
    "name": "ipython",
    "version": 3
   },
   "file_extension": ".py",
   "mimetype": "text/x-python",
   "name": "python",
   "nbconvert_exporter": "python",
   "pygments_lexer": "ipython3",
   "version": "3.11.0rc2"
  }
 },
 "nbformat": 4,
 "nbformat_minor": 5
}
